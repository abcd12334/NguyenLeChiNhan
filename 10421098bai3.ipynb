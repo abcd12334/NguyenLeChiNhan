{
  "nbformat": 4,
  "nbformat_minor": 0,
  "metadata": {
    "colab": {
      "provenance": [],
      "name": "10421098bai3.ipynb",
      "authorship_tag": "ABX9TyPRgoSrzhXufvwzYTBeC+f5",
      "include_colab_link": true
    },
    "kernelspec": {
      "name": "python3",
      "display_name": "Python 3"
    },
    "language_info": {
      "name": "python"
    }
  },
  "cells": [
    {
      "cell_type": "markdown",
      "metadata": {
        "id": "view-in-github",
        "colab_type": "text"
      },
      "source": [
        "<a href=\"https://colab.research.google.com/github/abcd12334/NguyenLeChiNhan/blob/main/10421098bai3.ipynb\" target=\"_parent\"><img src=\"https://colab.research.google.com/assets/colab-badge.svg\" alt=\"Open In Colab\"/></a>"
      ]
    },
    {
      "cell_type": "code",
      "execution_count": null,
      "metadata": {
        "colab": {
          "base_uri": "https://localhost:8080/"
        },
        "id": "0JSucd5R_Oqc",
        "outputId": "8785b126-d579-4648-ab1b-ee1e2a293308"
      },
      "outputs": [
        {
          "output_type": "stream",
          "name": "stdout",
          "text": [
            "    mpg  cylinders  displacement horsepower  weight  acceleration  model  \\\n",
            "0  18.0          8           307        130    3504          12.0     70   \n",
            "1  15.0          8           350        165    3693          11.5     70   \n",
            "2  18.0          8           318        150    3436          11.0     70   \n",
            "3  16.0          8           304        150    3433          12.0     70   \n",
            "4  17.0          8           302        140    3449          10.5     70   \n",
            "\n",
            "   origin                        car  Unnamed: 9  Unnamed: 10  Unnamed: 11  \\\n",
            "0       1  chevrolet chevelle malibu         NaN          NaN          NaN   \n",
            "1       1          buick skylark 320         NaN          NaN          NaN   \n",
            "2       1         plymouth satellite         NaN          NaN          NaN   \n",
            "3       1              amc rebel sst         NaN          NaN          NaN   \n",
            "4       1                ford torino         NaN          NaN          NaN   \n",
            "\n",
            "   Unnamed: 12  Unnamed: 13  \n",
            "0          NaN          NaN  \n",
            "1          NaN          NaN  \n",
            "2          NaN          NaN  \n",
            "3          NaN          NaN  \n",
            "4          NaN          NaN  \n",
            "    mpg  cylinders  displacement horsepower  weight  acceleration  model  \\\n",
            "0  33.0          4            91         53    1795          17.4     76   \n",
            "1  20.0          6           225        100    3651          17.7     76   \n",
            "2  18.0          6           250         78    3574          21.0     76   \n",
            "3  18.5          6           250        110    3645          16.2     76   \n",
            "4  17.5          6           258         95    3193          17.8     76   \n",
            "\n",
            "   origin                 car  \n",
            "0       3         honda civic  \n",
            "1       1      dodge aspen se  \n",
            "2       1   ford granada ghia  \n",
            "3       1  pontiac ventura sj  \n",
            "4       1       amc pacer d/l  \n",
            "    mpg  cylinders  displacement horsepower  weight  acceleration  model  \\\n",
            "0  18.0          8           307        130    3504          12.0     70   \n",
            "1  15.0          8           350        165    3693          11.5     70   \n",
            "2  18.0          8           318        150    3436          11.0     70   \n",
            "3  16.0          8           304        150    3433          12.0     70   \n",
            "4  17.0          8           302        140    3449          10.5     70   \n",
            "\n",
            "   origin                        car  \n",
            "0       1  chevrolet chevelle malibu  \n",
            "1       1          buick skylark 320  \n",
            "2       1         plymouth satellite  \n",
            "3       1              amc rebel sst  \n",
            "4       1                ford torino  \n",
            "(198, 9)\n",
            "(200, 9)\n",
            "      mpg  cylinders  displacement horsepower  weight  acceleration  model  \\\n",
            "195  27.0          4           140         86    2790          15.6     82   \n",
            "196  44.0          4            97         52    2130          24.6     82   \n",
            "197  32.0          4           135         84    2295          11.6     82   \n",
            "198  28.0          4           120         79    2625          18.6     82   \n",
            "199  31.0          4           119         82    2720          19.4     82   \n",
            "\n",
            "     origin              car  owners  \n",
            "195       1  ford mustang gl   58724  \n",
            "196       2        vw pickup   62527  \n",
            "197       1    dodge rampage   49873  \n",
            "198       1      ford ranger   46569  \n",
            "199       1       chevy s-10   52023  \n"
          ]
        }
      ],
      "source": [
        "import pandas as pd\n",
        "import numpy as np\n",
        "\n",
        "# Step 2. Import the first dataset cars1 and cars2.\n",
        "cars1 = pd.read_csv(\"https://raw.githubusercontent.com/guipsamora/pandas_exercises/master/05_Merge/Auto_MPG/cars1.csv\")\n",
        "cars2 = pd.read_csv(\"https://raw.githubusercontent.com/guipsamora/pandas_exercises/master/05_Merge/Auto_MPG/cars2.csv\")\n",
        "\n",
        "# Step 3. Assign each to a variable called cars1 and cars2\n",
        "print(cars1.head())\n",
        "print(cars2.head())\n",
        "\n",
        "# Step 4. Oops, it seems our first dataset has some unnamed blank columns, fix cars1\n",
        "cars1 = cars1.loc[:, \"mpg\":\"car\"]\n",
        "print(cars1.head())\n",
        "\n",
        "# Step 5. What is the number of observations in each dataset?\n",
        "print(cars1.shape)\n",
        "print(cars2.shape)\n",
        "\n",
        "# Step 6. Join cars1 and cars2 into a single DataFrame called cars\n",
        "cars = pd.concat([cars1, cars2])\n",
        "\n",
        "# Step 7. Oops, there is a column missing, called owners. Create a random number Series from 15,000 to 73,000.\n",
        "nr_owners = np.random.randint(15000, high=73001, size=cars.shape[0], dtype='l')\n",
        "\n",
        "# Step 8. Add the column owners to cars\n",
        "cars['owners'] = nr_owners\n",
        "print(cars.tail())"
      ]
    }
  ]
}