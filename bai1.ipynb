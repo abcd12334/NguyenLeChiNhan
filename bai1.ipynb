import numpy as np

# Create a new array of 2*2 integers, without initializing entries.
array_2x2_int = np.empty((2, 2), dtype=np.int32)

# Create a new array with the same shape and type as X.
X = np.array([[1, 2, 3], [4, 5, 6]], np.int32)
new_array_like_X = np.empty_like(X)

# Create a 3-D array with ones on the diagonal and zeros elsewhere.
array_3d_diagonal_ones = np.eye(3)

# Create a new array of 3*2 float numbers, filled with ones.
array_3x2_ones = np.ones((3, 2), dtype=np.float64)

# Create an array of ones with the same shape and type as X.
x = np.arange(4, dtype=np.int64)
ones_like_X = np.ones_like(x)

# Create a new array of 3*2 float numbers, filled with zeros.
array_3x2_zeros = np.zeros((3, 2), dtype=np.float64)

# Create an array of zeros with the same shape and type as X.
zeros_like_X = np.zeros_like(x)

# Create a new array of 2*5 uints, filled with 6.
array_2x5_uint6 = np.full((2, 5), 6, dtype=np.uint32)

# Create an array of 6's with the same shape and type as X.
sixes_like_X = np.full_like(x, 6)

# Create an array of [1, 2, 3].
array_123 = np.array([1, 2, 3])

# Convert a list into an array.
x = [1, 2]
array_from_list = np.array(x)

# Convert X into a matrix.
X = np.array([[1, 2], [3, 4]])
matrix_X = np.asmatrix(X)

# Convert x into an array of floats.
x = [1, 2]
float_array_x = np.array(x, dtype=np.float64)

# Convert x into a scalar of its single element.
x = np.array([30])
scalar_x = x.item()

# Create a copy of x with a different id.
x = np.array([1, 2, 3])
copy_x = np.copy(x)

# Create an array of 2, 4, 6, 8, ..., 100.
even_array = np.arange(2, 101, 2)

# Create a 1-D array of 50 evenly spaced elements between 3. and 10., inclusive.
evenly_spaced_array = np.linspace(3., 10., 50)

# Create a 1-D array of 50 elements spaced evenly on a log scale between 3. and 10., exclusive.
log_spaced_array = np.logspace(3., 10., 50, endpoint=False)

# Get the diagonal of X.
X = np.array([[0, 1, 2, 3], [4, 5, 6, 7], [8, 9, 10, 11]])
diagonal_X = np.diag(X)

# Create a 2-D array whose diagonal equals [1, 2, 3, 4] and 0's elsewhere.
diagonal_array = np.diag([1, 2, 3, 4])

# Create an array which looks like below.
array_010_110 = np.tri(3, 5, k=-1)

# Create an array which looks like below.
array_004_080_0 = np.tril(np.arange(1, 13).reshape(4, 3), -1)

# Create an array which looks like below.
array_123_456_089_0012 = np.array([[1, 2, 3], [4, 5, 6], [0, 8, 9], [0, 0, 12]])

print(array_2x2_int)
print(new_array_like_X)
print(array_3d_diagonal_ones)
print(array_3x2_ones)
print(ones_like_X)
print(array_3x2_zeros)
print(zeros_like_X)
print(array_2x5_uint6)
print(sixes_like_X)
print(array_123)
print(array_from_list)
print(matrix_X)
print(float_array_x)
print(scalar_x)
print(copy_x)
print(even_array)
print(evenly_spaced_array)
print(log_spaced_array)
print(diagonal_X)
print(diagonal_array)
print(array_010_110)
print(array_004_080_0)
print(array_123_456_089_0012)
