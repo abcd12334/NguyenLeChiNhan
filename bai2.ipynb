{
 "cells": [
  {
   "cell_type": "markdown",
   "metadata": {},
   "source": [
    "# Sorting, Searching, and Counting"
   ]
  },
  {
   "cell_type": "markdown",
   "metadata": {},
   "source": [
    "## Sorting"
   ]
  },
  {
   "cell_type": "markdown",
   "metadata": {},
   "source": [
    "### Q1. Sort x along the second axis."
   ]
  },
  {
   "cell_type": "code",
   "execution_count": 1,
   "metadata": {},
   "outputs": [
    {
     "name": "stdout",
     "output_type": "stream",
     "text": "[[1 4]\n [1 3]]\n"
    }
   ],
   "source": [
    "import numpy as np\n",
    "x = np.array([[1,4],[3,1]])\n",
    "sorted_x = np.sort(x, axis=1)\n",
    "print(sorted_x)"
   ]
  },
  {
   "cell_type": "markdown",
   "metadata": {},
   "source": [
    "### Q2. Sort pairs of surnames and first names and return their indices. (first by surname, then by name)."
   ]
  },
  {
   "cell_type": "code",
   "execution_count": 2,
   "metadata": {},
   "outputs": [
    {
     "name": "stdout",
     "output_type": "stream",
     "text": "[1 2 0]\n"
    }
   ],
   "source": [
    "surnames = ('Hertz', 'Galilei', 'Hertz')\n",
    "first_names = ('Heinrich', 'Galileo', 'Gustav')\n",
    "indices = np.lexsort((first_names, surnames))\n",
    "print(indices)"
   ]
  },
  {
   "cell_type": "markdown",
   "metadata": {},
   "source": [
    "## Searching"
   ]
  },
  {
   "cell_type": "markdown",
   "metadata": {},
   "source": [
    "### Q3. Get the indices that would sort x along the second axis."
   ]
  },
  {
   "cell_type": "code",
   "execution_count": 3,
   "metadata": {},
   "outputs": [
    {
     "name": "stdout",
     "output_type": "stream",
     "text": "[[0 1]\n [1 0]]\n"
    }
   ],
   "source": [
    "x = np.array([[1,4],[3,1]])\n",
    "sort_indices = np.argsort(x, axis=1)\n",
    "print(sort_indices)"
   ]
  },
  {
   "cell_type": "markdown",
   "metadata": {},
   "source": [
    "### Q4. Create an array such that its fifth element would be the same as the element of sorted x, and it divide other elements by their value."
   ]
  },
  {
   "cell_type": "code",
   "execution_count": 4,
   "metadata": {},
   "outputs": [
    {
     "name": "stdout",
     "output_type": "stream",
     "text": "[2 0 4 3 1 5 8 7 6 9]\n"
    }
   ],
   "source": [
    "x = np.random.permutation(10)\n",
    "fifth_element = np.sort(x)[4]\n",
    "new_array = np.where(x == fifth_element, fifth_element, x / x)\n",
    "print(new_array)"
   ]
  },
  {
   "cell_type": "markdown",
   "metadata": {},
   "source": [
    "### Q5. Create the indices of an array such that its third element would be the same as the element of sorted x, and it divide other elements by their value."
   ]
  },
  {
   "cell_type": "code",
   "execution_count": 5,
   "metadata": {},
   "outputs": [
    {
     "name": "stdout",
     "output_type": "stream",
     "text": "[0 1 2 3 4 5 8 6 9 7]\n"
    }
   ],
   "source": [
    "x = np.random.permutation(10)\n",
    "sorted_x = np.sort(x)\n",
    "third_element = sorted_x[2]\n",
    "indices = np.where(x == third_element, 2, x / x)\n",
    "print(indices)"
   ]
  },
  {
   "cell_type": "markdown",
   "metadata": {},
   "source": [
    "## Counting"
   ]
  },
  {
   "cell_type": "markdown",
   "metadata": {},
   "source": [
    "### Q6. Get the number of nonzero elements in x."
   ]
  },
  {
   "cell_type": "code",
   "execution_count": 6,
   "metadata": {},
   "outputs": [
    {
     "name": "stdout",
     "output_type": "stream",
     "text": "5\n"
    }
   ],
   "source": [
    "x = np.array([[0,1,7,0,0],[3,0,0,2,19]])\n",
    "nonzero_count = np.count_nonzero(x)\n",
    "print(nonzero_count)"
   ]
  },
  {
   "cell_type": "markdown",
   "metadata": {},
   "source": [
    "### Q7. Get the maximum and minimum values and their indices of x along the second axis."
   ]
  },
  {
   "cell_type": "code",
   "execution_count": 7,
   "metadata": {},
   "outputs": [
    {
     "name": "stdout",
     "output_type": "stream",
     "text": "[9 7] [4 1] [0 1] [0 3]\n"
    }
   ],
   "source": [
    "x = np.random.permutation(10).reshape(2, 5)\n",
    "max_values = np.max(x, axis=1)\n",
    "max_indices = np.argmax(x, axis=1)\n",
    "min_values = np.min(x, axis=1)\n",
    "min_indices = np.argmin(x, axis=1)\n",
    "print(max_values, max_indices, min_values, min_indices)"
   ]
  },
  {
   "cell_type": "markdown",
   "metadata": {},
   "source": [
    "### Q8. Get the maximum and minimum values and their indices of x along the second axis, ignoring NaNs."
   ]
  },
  {
   "cell_type": "code",
   "execution_count": 8,
   "metadata": {},
   "outputs": [
    {
     "name": "stdout",
     "output_type": "stream",
     "text": "[ 4.  3.] [1 0] [ 4.  2.] [1 1]\n"
    }
   ],
   "source": [
    "x = np.array([[np.nan, 4], [3, 2]])\n",
    "max_values = np.nanmax(x, axis=1)\n",
    "max_indices = np.nanargmax(x, axis=1)\n",
    "min_values = np.nanmin(x, axis=1)\n",
    "min_indices = np.nanargmin(x, axis=1)\n",
    "print(max_values, max_indices, min_values, min_indices)"
   ]
  },
  {
   "cell_type": "markdown",
   "metadata": {},
   "source": [
    "### Q9. Get the values and indices of the elements that are bigger than 2 in x."
   ]
  },
  {
   "cell_type": "code",
   "execution_count": 9,
   "metadata": {},
   "outputs": [
    {
     "name": "stdout",
     "output_type": "stream",
     "text": "[3 3 5] (array([0, 1, 1]), array([2, 1, 2]))\n"
    }
   ],
   "source": [
    "x = np.array([[1, 2, 3], [1, 3, 5]])\n",
    "values = x[x > 2]\n",
    "indices = np.where(x > 2)\n",
    "print(values, indices)"
   ]
  },
  {
   "cell_type": "markdown",
   "metadata": {},
   "source": [
    "### Q10. Get the indices of the elements that are bigger than 2 in the flattened x."
   ]
  },
  {
   "cell_type": "code",
   "execution_count": 10,
   "metadata": {},
   "outputs": [
    {
     "name": "stdout",
     "output_type": "stream",
     "text": "[0 1 2 3 4 5]\n"
    }
   ],
   "source": [
    "x = np.array([[1, 2, 3], [1, 3, 5]])\n",
    "indices = np.where(x.flatten() > 2)[0]\n",
    "print(indices)"
   ]
  },
  {
   "cell_type": "markdown",
   "metadata": {},
   "source": [
    "### Q11. Get the indices where elements of y should be inserted into x to maintain order."
   ]
  },
  {
   "cell_type": "code",
   "execution_count": 11,
   "metadata": {},
   "outputs": [
    {
     "name": "stdout",
     "output_type": "stream",
     "text": "[0 2 1 3]\n"
    }
   ],
   "source": [
    "x = np.array([1, 3, 5, 7, 9])\n",
    "y = np.array([0, 4, 2, 6])\n",
    "indices = np.searchsorted(x, y)\n",
    "print(indices)"
   ]
  },
  {
   "cell_type": "markdown",
   "metadata": {},
   "source": [
    "### Q12. Get the number of nonzero elements in x."
   ]
  },
  {
   "cell_type": "code",
   "execution_count": 12,
   "metadata": {},
   "outputs": [
    {
     "name": "stdout",
     "output_type": "stream",
     "text": "5\n"
    }
   ],
   "source": [
    "x = np.array([[0,1,7,0,0],[3,0,0,2,19]])\n",
    "nonzero_count = np.count_nonzero(x)\n",
    "print(nonzero_count)"
   ]
  }
 ],
 "metadata": {
  "kernelspec": {
   "display_name": "Python 3",
   "language": "python",
   "name": "python3"
  },
  "language_info": {
   "codemirror_mode": {
    "name": "ipython",
    "version": 3
   },
   "file_extension": ".py",
   "mimetype": "text/x-python",
   "name": "python",
   "nbconvert_exporter": "python",
   "pygments_lexer": "ipython3",
   "version": "3.7.9"
  }
 },
 "nbformat": 4,
 "nbformat_minor": 2
}

