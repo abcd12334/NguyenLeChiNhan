{
 "cells": [
  {
   "cell_type": "markdown",
   "metadata": {},
   "source": [
    "# Random Sampling"
   ]
  },
  {
   "cell_type": "code",
   "execution_count": 1,
   "metadata": {},
   "outputs": [
    {
     "name": "stdout",
     "output_type": "stream",
     "text": [
      "Q1.\n",
      "[[0.33213409 0.9939325 ]\n",
      " [0.84767777 0.2523325 ]\n",
      " [0.69274885 0.39505164]]\n"
     ]
    }
   ],
   "source": [
    "import numpy as np\n",
    "\n",
    "# Q1\n",
    "print(\"Q1.\")\n",
    "print(np.random.rand(3, 2))"
   ]
  },
  {
   "cell_type": "code",
   "execution_count": 2,
   "metadata": {},
   "outputs": [
    {
     "name": "stdout",
     "output_type": "stream",
     "text": [
      "Q2.\n",
      "Mean: -0.0011388746195216555\n",
      "Standard Deviation: 1.000000975988446\n"
     ]
    }
   ],
   "source": [
    "# Q2\n",
    "print(\"\\nQ2.\")\n",
    "data = np.random.randn(1000, 1000)\n",
    "print(\"Mean:\", np.mean(data))\n",
    "print(\"Standard Deviation:\", np.std(data))"
   ]
  },
  {
   "cell_type": "code",
   "execution_count": 3,
   "metadata": {},
   "outputs": [
    {
     "name": "stdout",
     "output_type": "stream",
     "text": [
      "Q3.\n",
      "[[0 2]\n",
      " [0 2]\n",
      " [1 3]]\n"
     ]
    }
   ],
   "source": [
    "# Q3\n",
    "print(\"\\nQ3.\")\n",
    "print(np.random.randint(0, 4, size=(3, 2)))"
   ]
  },
  {
   "cell_type": "code",
   "execution_count": 4,
   "metadata": {},
   "outputs": [
    {
     "name": "stdout",
     "output_type": "stream",
     "text": [
      "Q4.\n",
      "5 out of 10\n",
      "3 out of 10\n",
      "2 out of 10\n",
      "5 out of 10\n",
      "3 out of 10\n",
      "2 out of 10\n",
      "5 out of 10\n",
      "2 out of 10\n",
      "3 out of 10\n",
      "5 out of 10\n"
     ]
    }
   ],
   "source": [
    "# Q4\n",
    "print(\"\\nQ4.\")\n",
    "x = np.array([b'3 out of 10', b'5 out of 10', b'2 out of 10'])\n",
    "for _ in range(10):\n",
    "    print(np.random.choice(x, p=[0.3, 0.5, 0.2]))"
   ]
  },
  {
   "cell_type": "code",
   "execution_count": 5,
   "metadata": {},
   "outputs": [
    {
     "name": "stdout",
     "output_type": "stream",
     "text": [
      "Q5.\n",
      "[3 2 3]\n"
     ]
    }
   ],
   "source": [
    "# Q5\n",
    "print(\"\\nQ5.\")\n",
    "print(np.random.choice(np.arange(10), size=3))"
   ]
  },
  {
   "cell_type": "code",
   "execution_count": 6,
   "metadata": {},
   "outputs": [
    {
     "name": "stdout",
     "output_type": "stream",
     "text": [
      "Q6.\n",
      "[3 2 0 7 9 5 6 4 1 8]\n"
     ]
    }
   ],
   "source": [
    "# Q6\n",
    "print(\"\\nQ6.\")\n",
    "print(np.random.permutation(10))"
   ]
  },
  {
   "cell_type": "code",
   "execution_count": 7,
   "metadata": {},
   "outputs": [
    {
     "name": "stdout",
     "output_type": "stream",
     "text": [
      "Q7.\n",
      "[0.77132064 0.02075195 0.63364823]\n"
     ]
    }
   ],
   "source": [
    "# Q7\n",
    "print(\"\\nQ7.\")\n",
    "np.random.seed(10)  # Set seed to 10\n",
    "print(np.random.rand(3))"
   ]
  }
 ],
 "metadata": {
  "kernelspec": {
   "display_name": "Python 3",
   "language": "python",
   "name": "python3"
  },
  "language_info": {
   "codemirror_mode": {
    "name": "ipython",
    "version": 3
   },
   "file_extension": ".py",
   "mimetype": "text/x-python",
   "name": "python",
   "nbconvert_exporter": "python",
   "pygments_lexer": "ipython3",
   "version": "3.7.9"
  }
 },
 "nbformat": 4,
 "nbformat_minor": 2
}

