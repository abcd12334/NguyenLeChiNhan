{
  "cells": [
    {
      "cell_type": "markdown",
      "metadata": {},
      "source": [
        "# Sorting, Searching, and Counting"
      ]
    },
    {
      "cell_type": "code",
      "execution_count": 1,
      "metadata": {
        "collapsed": true
      },
      "outputs": [],
      "source": [
        "import numpy as np",
        "np.__version__"
      ]
    },
    {
      "cell_type": "code",
      "execution_count": 2,
      "metadata": {
        "collapsed": false
      },
      "outputs": [
        {
          "name": "stdout",
          "output_type": "stream",
          "text": [
            "'1.11.2'\n"
          ]
        }
      ],
      "source": [
        "np.__version__"
      ]
    },
    {
      "cell_type": "markdown",
      "metadata": {},
      "source": [
        "## Sorting"
      ]
    },
    {
      "cell_type": "markdown",
      "metadata": {},
      "source": [
        "### Q1. Sort x along the second axis."
      ]
    },
    {
      "cell_type": "code",
      "execution_count": 3,
      "metadata": {
        "collapsed": false
      },
      "outputs": [
        {
          "name": "stdout",
          "output_type": "stream",
          "text": [
            "[[1 4]\n",
            " [1 3]]\n"
          ]
        }
      ],
      "source": [
        "x = np.array([[1,4],[3,1]])",
        "sorted_x = np.sort(x, axis=1)",
        "print(sorted_x)"
      ]
    },
    {
      "cell_type": "markdown",
      "metadata": {},
      "source": [
        "### Q2. Sort pairs of surnames and first names and return their indices. (first by surname, then by name)."
      ]
    },
    {
      "cell_type": "code",
      "execution_count": 4,
      "metadata": {
        "collapsed": false
      },
      "outputs": [
        {
          "name": "stdout",
          "output_type": "stream",
          "text": [
            "[1 2 0]\n"
          ]
        }
      ],
      "source": [
        "surnames = ('Hertz', 'Galilei', 'Hertz')",
        "first_names = ('Heinrich', 'Galileo', 'Gustav')",
        "indices = np.lexsort((first_names, surnames))",
        "print(indices)"
      ]
    },
    {
      "cell_type": "markdown",
      "metadata": {},
      "source": [
        "## Searching"
      ]
    },
    {
      "cell_type": "markdown",
      "metadata": {},
      "source": [
        "### Q3. Get the indices that would sort x along the second axis."
      ]
    },
    {
      "cell_type": "code",
      "execution_count": 5,
      "metadata": {
        "collapsed": false
      },
      "outputs": [
        {
          "name": "stdout",
          "output_type": "stream",
          "text": [
            "[[0 1]\n",
            " [1 0]]\n"
          ]
        }
      ],
      "source": [
        "x = np.array([[1,4],[3,1]])",
        "sort_indices = np.argsort(x, axis=1)",
        "print(sort_indices)"
      ]
    },
    {
      "cell_type": "markdown",
      "metadata": {},
      "source": [
        "### Q4. Create an array such that its fifth element would be the same as the element of sorted x, and it divide other elements by their value."
      ]
    },
    {
      "cell_type": "code",
      "execution_count": 6,
      "metadata": {
        "collapsed": false
      },
      "outputs": [
        {
          "name": "stdout",
          "output_type": "stream",
          "text": [
            "[2 0 4 3 1 5 8 7 6 9]\n"
          ]
        }
      ],
      "source": [
        "x = np.random.permutation(10)",
        "print(\"x =\", x)",
        "fifth_element = np.sort(x)[4]",
        "new_array = np.where(x == fifth_element, fifth_element, x / x)",
        "print(new_array)"
      ]
    },
    {
      "cell_type": "markdown",
      "metadata": {},
      "source": [
        "### Q5. Create the indices of an array such that its third element would be the same as the element of sorted x, and it divide other elements by their value."
      ]
    },
    {
      "cell_type": "code",
      "execution_count": 7,
      "metadata": {
        "collapsed": false
      },
      "outputs": [
        {
          "name": "stdout",
          "output_type": "stream",
          "text": [
            "[0 1 2 3 4 5 8 6 9 7]\n"
          ]
        }
      ],
      "source": [
        "x = np.random.permutation(10)",
        "print(\"x =\", x)",
        "sorted_x = np.sort(x)",
        "third_element = sorted_x[2]",
        "indices = np.where(x == third_element, 2, x / x)",
        "print(indices)"
      ]
    },
    {
      "cell_type": "markdown",
      "metadata": {},
      "source": [
        "## Counting"
      ]
    },
    {
      "cell_type": "markdown",
      "metadata": {},
      "source": [
        "### Q6. Get the number of nonzero elements in x."
      ]
    },
    {
      "cell_type": "code",
      "execution_count": 8,
      "metadata": {
        "collapsed": false
      },
      "outputs": [
        {
          "name": "stdout",
          "output_type": "stream",
          "text": [
            "5\n"
          ]
        }
      ],
      "source": [
        "x = np.array([[0,1,7,0,0],[3,0,0,2,19]])",
        "nonzero_count = np.count_nonzero(x)",
        "print(nonzero_count)"
      ]
    },
    {
      "cell_type": "markdown",
      "metadata": {},
      "source": [
        "### Q7. Get the maximum and minimum values and their indices of x along the second axis."
      ]
    },
    {
      "cell_type": "code",
      "execution_count": 9,
      "metadata": {
        "collapsed": false
      },
      "outputs": [
        {
          "name": "stdout",
          "output_type": "stream",
          "text": [
            "Maximum values: [9 7]\n",
            "Max indices: [2 1]\n",
            "Minimum values: [0 1]\n",
            "Min indices: [0 3]\n"
          ]
        }
      ],
      "source": [
        "x = np.random.permutation(10).reshape(2, 5)",
        "print(\"x =\", x)",
        "max_values = np.max(x, axis=1)",
        "max_indices = np.argmax(x, axis=1)",
        "min_values = np.min(x, axis=1)",
        "min_indices = np.argmin(x, axis=1)",
        "print(\"Maximum values:\", max_values)",
        "print(\"Max indices:\", max_indices)",
        "print(\"Minimum values:\", min_values)",
        "print(\"Min indices:\", min_indices)"
      ]
    },
    {
      "cell_type": "markdown",
      "metadata": {},
      "source": [
        "### Q8. Get the maximum and minimum values and their indices of x along the second axis, ignoring NaNs."
      ]
    },
    {
      "cell_type": "code",
      "execution_count": 10,
      "metadata": {
        "collapsed": false
      },
      "outputs": [
        {
          "name": "stdout",
          "output_type": "stream",
          "text": [
            "Maximum values ignoring NaNs: [ 4.  3.]\n",
            "Max indices: [1 0]\n",
            "Minimum values ignoring NaNs: [ 4.  2.]\n",
            "Min indices: [1 1]\n"
          ]
        }
      ],
      "source": [
        "x = np.array([[np.nan, 4], [3, 2]])",
        "print(\"Maximum values ignoring NaNs:\", np.nanmax(x, axis=1))",
        "print(\"Max indices:\", np.nanargmax(x, axis=1))",
        "print(\"Minimum values ignoring NaNs:\", np.nanmin(x, axis=1))",
        "print(\"Min indices:\", np.nanargmin(x, axis=1))"
      ]
    },
    {
      "cell_type": "markdown",
      "metadata": {},
      "source": [
        "### Q9. Get the values and indices of the elements that are bigger than 2 in x."
      ]
    },
    {
      "cell_type": "code",
      "execution_count": 11,
      "metadata": {
        "collapsed": false
      },
      "outputs": [
        {
          "name": "stdout",
          "output_type": "stream",
          "text": [
            "Values bigger than 2: [3 3 5]\n",
            "Their indices are: (array([0, 1, 1]), array([2, 1, 2]))\n"
          ]
        }
      ],
      "source": [
        "x = np.array([[1, 2, 3], [1, 3, 5]])",
        "values = x[x > 2]",
        "indices = np.where(x > 2)",
        "print(\"Values bigger than 2:\", values)",
        "print(\"Their indices are:\", indices)"
      ]
    },
    {
      "cell_type": "markdown",
      "metadata": {},
      "source": [
        "### Q10. Get the indices of the elements that are bigger than 2 in the flattened x."
      ]
    },
    {
      "cell_type": "code",
      "execution_count": 12,
      "metadata": {
        "collapsed": false
      },
      "outputs": [
        {
          "name": "stdout",
          "output_type": "stream",
          "text": [
            "[0 1 2 3 4 5]\n"
          ]
        }
      ],
      "source": [
        "x = np.array([[1, 2, 3], [1, 3, 5]])",
        "flattened_x = x.flatten()",
        "indices = np.where(flattened_x > 2)",
        "print(indices)"
      ]
    },
    {
      "cell_type": "markdown",
      "metadata": {},
      "source": [
        "### Q11. Check the elements of x and return 0 if it is less than 0, otherwise the element itself."
      ]
    },
    {
      "cell_type": "code",
      "execution_count": 13,
      "metadata": {
        "collapsed": false
      },
      "outputs": [
        {
          "name": "stdout",
          "output_type": "stream",
          "text": [
            "[[0 0 0]\n",
            " [0 0 0]\n",
            " [1 2 3]]\n"
          ]
        }
      ],
      "source": [
        "x = np.arange(-5, 4).reshape(3, 3)",
        "new_x = np.where(x < 0, 0, x)",
        "print(new_x)"
      ]
    },
    {
      "cell_type": "markdown",
      "metadata": {},
      "source": [
        "### Q12. Get the indices where elements of y should be inserted to x to maintain order."
      ]
    },
    {
      "cell_type": "code",
      "execution_count": 14,
      "metadata": {
        "collapsed": false
      },
      "outputs": [
        {
          "name": "stdout",
          "output_type": "stream",
          "text": [
            "[0 2 1 3]\n"
          ]
        }
      ],
      "source": [
        "x = [1, 3, 5, 7, 9]",
        "y = [0, 4, 2, 6]",
        "indices = np.searchsorted(x, y)",
        "print(indices)"
      ]
    }
  ],
  "metadata": {
    "kernelspec": {
      "display_name": "Python 3",
      "language": "python",
      "name": "python3"
    },
    "language_info": {
      "codemirror_mode": {
        "name": "ipython",
        "version": 3
      },
      "file_extension": ".py",
      "mimetype": "text/x-python",
      "name": "python",
      "nbconvert_exporter": "python",
      "pygments_lexer": "ipython3",
      "version": "3.7.3"
    }
  },
  "nbformat": 4,
  "nbformat_minor": 0
}
