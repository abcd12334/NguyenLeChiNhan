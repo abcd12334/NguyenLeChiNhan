{
"cells": [
{
"cell_type": "markdown",
"metadata": {},
"source": [
"Statistics"
]
},
{
"cell_type": "markdown",
"metadata": {},
"source": [
"Order statistics"
]
},
{
"cell_type": "markdown",
"metadata": {},
"source": [
"Q1. Return the minimum value of x along the second axis."
]
},
{
"cell_type": "code",
"execution_count": 1,
"metadata": {},
"outputs": [
{
"name": "stdout",
"output_type": "stream",
"text": "[0 2]\n"
}
],
"source": [
"import numpy as np\n",
"x = np.arange(4).reshape((2, 2))\n",
"print("x=\n", x)\n",
"print("ans=\n", np.min(x, axis=1))"
]
},
{
"cell_type": "markdown",
"metadata": {},
"source": [
"Q2. Return the maximum value of x along the second axis. Reduce the second axis to the dimension with size one."
]
},
{
"cell_type": "code",
"execution_count": 2,
"metadata": {},
"outputs": [
{
"name": "stdout",
"output_type": "stream",
"text": "[[1]\n [3]]\n"
}
],
"source": [
"import numpy as np\n",
"x = np.arange(4).reshape((2, 2))\n",
"print("x=\n", x)\n",
"print("ans=\n", np.max(x, axis=1, keepdims=True))"
]
},
{
"cell_type": "markdown",
"metadata": {},
"source": [
"Q3. Calcuate the difference between the maximum and the minimum of x along the second axis."
]
},
{
"cell_type": "code",
"execution_count": 3,
"metadata": {},
"outputs": [
{
"name": "stdout",
"output_type": "stream",
"text": "[4 4]\n"
}
],
"source": [
"import numpy as np\n",
"x = np.arange(10).reshape((2, 5))\n",
"print("x=\n", x)\n",
"print("ans=\n", np.ptp(x, axis=1))"
]
},
{
"cell_type": "markdown",
"metadata": {},
"source": [
"Q4. Compute the 75th percentile of x along the second axis."
]
},
{
"cell_type": "code",
"execution_count": 4,
"metadata": {},
"outputs": [
{
"name": "stdout",
"output_type": "stream",
"text": "[4. 9.]\n"
}
],
"source": [
"import numpy as np\n",
"x = np.arange(1, 11).reshape((2, 5))\n",
"print("x=\n", x)\n",
"print("ans=\n", np.percentile(x, 75, axis=1))"
]
},
{
"cell_type": "markdown",
"metadata": {},
"source": [
"Averages and variances"
]
},
{
"cell_type": "markdown",
"metadata": {},
"source": [
"Q5. Compute the median of flattened x."
]
},
{
"cell_type": "code",
"execution_count": 5,
"metadata": {},
"outputs": [
{
"name": "stdout",
"output_type": "stream",
"text": "5.0\n"
}
],
"source": [
"import numpy as np\n",
"x = np.arange(1, 10).reshape((3, 3))\n",
"print("x=\n", x)\n",
"print("ans=\n", np.median(x))"
]
},
{
"cell_type": "markdown",
"metadata": {},
"source": [
"Q6. Compute the weighted average of x."
]
},
{
"cell_type": "code",
"execution_count": 6,
"metadata": {},
"outputs": [
{
"name": "stdout",
"output_type": "stream",
"text": "2.6666666666666665\n"
}
],
"source": [
"import numpy as np\n",
"x = np.arange(5)\n",
"weights = np.arange(1, 6)\n",
"print(np.average(x, weights=weights))"
]
},
{
"cell_type": "markdown",
"metadata": {},
"source": [
"Q7. Compute the mean, standard deviation, and variance of x along the second axis."
]
},
{
"cell_type": "code",
"execution_count": 7,
"metadata": {},
"outputs": [
{
"name": "stdout",
"output_type": "stream",
"text": "x=\n [0 1 2 3 4]\nmean=\n 2.0\nstd=\n 1.4142135623730951\nvariance=\n 2.0\n"
}
],
"source": [
"import numpy as np\n",
"x = np.arange(5)\n",
"print("x=\n",x)\n",
"print("mean=\n",np.mean(x))\n",
"print("std=\n",np.std(x))\n",
"print("variance=\n",np.var(x))"
]
},
{
"cell_type": "markdown",
"metadata": {},
"source": [
"Correlating"
]
},
{
"cell_type": "markdown",
"metadata": {},
"source": [
"Q8. Compute the covariance matrix of x and y."
]
},
{
"cell_type": "code",
"execution_count": 8,
"metadata": {},
"outputs": [
{
"name": "stdout",
"output_type": "stream",
"text": "[[ 1. -1.]\n [-1. 1.]]\n"
}
],
"source": [
"import numpy as np\n",
"x = np.array([0, 1, 2])\n",
"y = np.array([2, 1, 0])\n",
"print(np.cov(x, y))"
]
},
{
"cell_type": "markdown",
"metadata": {},
"source": [
"Q9. In the above covariance matrix, what does the -1 mean?"
]
},
{
"cell_type": "markdown",
"metadata": {},
"source": [
"Q10. Compute Pearson product-moment correlation coefficients of x and y."
]
},
{
"cell_type": "code",
"execution_count": 10,
"metadata": {},
"outputs": [
{
"name": "stdout",
"output_type": "stream",
"text": "[[1. 0.92857143]\n [0.92857143 1. ]]\n"
}
],
"source": [
"import numpy as np\n",
"x = np.array([0, 1, 3])\n",
"y = np.array([2, 4, 5])\n",
"print(np.corrcoef(x, y))"
]
},
{
"cell_type": "markdown",
"metadata": {},
"source": [
"Q11. Compute cross-correlation of x and y."
]
},
{
"cell_type": "code",
"execution_count": 11,
"metadata": {},
"outputs": [
{
"name": "stdout",
"output_type": "stream",
"text": "19.0\n"
}
],
"source": [
"import numpy as np\n",
"x = np.array([0, 1, 3])\n",
"y = np.array([2, 4, 5])\n",
"print(np.correlate(x, y))"
]
},
{
"cell_type": "markdown",
"metadata": {},
"source": [
"Histograms"
]
},
{
"cell_type": "markdown",
"metadata": {},
"source": [
"Q12. Compute the histogram of x against the bins."
]
},
{
"cell_type": "code",
"execution_count": 12,
"metadata": {},
"outputs": [],
"source": [
"import numpy as np\n",
"import matplotlib.pyplot as plt\n",
"%matplotlib inline\n",
"x = np.array([0.5, 0.7, 1.0, 1.2, 1.3, 2.1])\n",
"bins = np.array([0, 1, 2, 3])\n",
"print("ans=\n", np.histogram(x, bins=bins))"
]
},
{
"cell_type": "markdown",
"metadata": {},
"source": [
"Q13. Compute the 2d histogram of x and y."
]
},
{
"cell_type": "code",
"execution_count": 13,
"metadata": {},
"outputs": [],
"source": [
"import numpy as np\n",
"import matplotlib.pyplot as plt\n",
"%matplotlib inline\n",
"xedges = [0, 1, 2, 3]\n",
"yedges = [0, 1, 2, 3, 4]\n",
"x = np.array([0, 0.1, 0.2, 1., 1.1, 2., 2.1])\n",
"y = np.array([0, 0.1, 0.2, 1., 1.1, 2., 3.3])\n",
"H, xedges, yedges = np.histogram2d(x, y, bins=(xedges, yedges))\n",
"print("ans=\n", H)"
]
},
{
"cell_type": "markdown",
"metadata": {},
"source": [
"Q14. Count number of occurrences of 0 through 7 in x."
]
},
{
"cell_type": "code",
"execution_count": 14,
"metadata": {},
"outputs": [],
"source": [
"x = np.array([0, 1, 1, 3, 2, 1, 7])\n",
"print("ans=\n", np.bincount(x))"
]
},
{
"cell_type": "markdown",
"metadata": {},
"source": [
"Q15. Return the indices of the bins to which each value in x belongs."
]
},
{
"cell_type": "code",
"execution_count": 15,
"metadata": {},
"outputs": [],
"source": [
"x = np.array([0.2, 6.4, 3.0, 1.6])\n",
"bins = np.array([0.0, 1.0, 2.5, 4.0, 10.0])\n",
"print("ans=\n", np.digitize(x, bins))"
]
}
],
"metadata": {
"kernelspec": {
"display_name": "Python 3",
"language": "python",
"name": "python3"
},
"language_info": {
"codemirror_mode": {
"name": "ipython",
"version": 3
},
"file_extension": ".py",
"mimetype": "text/x-python",
"name": "python",
"nbconvert_exporter": "python",
"pygments_lexer": "ipython3",
"version": "3.7.9"
}
},
"nbformat": 4,
"nbformat_minor": 2
}
